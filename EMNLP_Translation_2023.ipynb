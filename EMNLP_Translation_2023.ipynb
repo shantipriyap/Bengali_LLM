{
  "nbformat": 4,
  "nbformat_minor": 0,
  "metadata": {
    "colab": {
      "provenance": []
    },
    "kernelspec": {
      "name": "python3",
      "display_name": "Python 3"
    },
    "language_info": {
      "name": "python"
    }
  },
  "cells": [
    {
      "cell_type": "code",
      "execution_count": null,
      "metadata": {
        "id": "3g5sHH7YuWzZ"
      },
      "outputs": [],
      "source": [
        "!git clone https://github.com/shantipriyap/OdiaGenAI.git"
      ]
    },
    {
      "cell_type": "code",
      "source": [
        "!pip install pre-commit -q"
      ],
      "metadata": {
        "id": "l6hEROlQuq5R"
      },
      "execution_count": null,
      "outputs": []
    },
    {
      "cell_type": "code",
      "source": [
        "!/content/OdiaGenAI/apps/install.sh"
      ],
      "metadata": {
        "id": "JAev9cWPur_V"
      },
      "execution_count": null,
      "outputs": []
    },
    {
      "cell_type": "code",
      "source": [
        "!wget https://ai4b-public-nlu-nlg.objectstore.e2enetworks.net/en2indic.zip"
      ],
      "metadata": {
        "id": "MmyXHtVeuvyz"
      },
      "execution_count": null,
      "outputs": []
    },
    {
      "cell_type": "code",
      "source": [
        "!unzip en2indic.zip -d /content/OdiaGenAI/apps/translate-to-indic-lang/"
      ],
      "metadata": {
        "id": "PLvMbC86vRYF"
      },
      "execution_count": null,
      "outputs": []
    },
    {
      "cell_type": "code",
      "source": [
        "!/content/OdiaGenAI/apps/translate-to-indic-lang/run.sh"
      ],
      "metadata": {
        "id": "SyZnocHAzcTG"
      },
      "execution_count": null,
      "outputs": []
    },
    {
      "cell_type": "code",
      "source": [],
      "metadata": {
        "id": "IfmUOvIz54Bi"
      },
      "execution_count": null,
      "outputs": []
    }
  ]
}